{
  "nbformat": 4,
  "nbformat_minor": 0,
  "metadata": {
    "colab": {
      "name": "Lemmatization.ipynb",
      "provenance": [],
      "collapsed_sections": [],
      "authorship_tag": "ABX9TyP/POvBDiAKcXsVfoa2ap/B",
      "include_colab_link": true
    },
    "kernelspec": {
      "name": "python3",
      "display_name": "Python 3"
    },
    "language_info": {
      "name": "python"
    }
  },
  "cells": [
    {
      "cell_type": "markdown",
      "metadata": {
        "id": "view-in-github",
        "colab_type": "text"
      },
      "source": [
        "<a href=\"https://colab.research.google.com/github/Anshul007/Anshul-Chaurasia/blob/master/Lemmatization.ipynb\" target=\"_parent\"><img src=\"https://colab.research.google.com/assets/colab-badge.svg\" alt=\"Open In Colab\"/></a>"
      ]
    },
    {
      "cell_type": "code",
      "metadata": {
        "id": "5ilXIWWLzKm2"
      },
      "source": [
        "import spacy\n",
        "nlp = spacy.load(\"en_core_web_sm\")"
      ],
      "execution_count": 3,
      "outputs": []
    },
    {
      "cell_type": "code",
      "metadata": {
        "colab": {
          "base_uri": "https://localhost:8080/"
        },
        "id": "DhcnFZsIGadU",
        "outputId": "0ac901f7-04c2-4de0-bc1c-22369c0c1541"
      },
      "source": [
        "core = nlp(u\"John adam is one of the researcher, who invent the diretion of way toward success\")\n",
        "\n",
        "for token in core:\n",
        "  print(token.text, \"\\t\", token.pos_, \"\\t\", token.lemma, \"\\t\", token.lemma_)"
      ],
      "execution_count": 4,
      "outputs": [
        {
          "output_type": "stream",
          "text": [
            "John \t PROPN \t 11174346320140919546 \t John\n",
            "adam \t PROPN \t 7699383326866193419 \t adam\n",
            "is \t AUX \t 10382539506755952630 \t be\n",
            "one \t NUM \t 17454115351911680600 \t one\n",
            "of \t ADP \t 886050111519832510 \t of\n",
            "the \t DET \t 7425985699627899538 \t the\n",
            "researcher \t NOUN \t 1317581537614213870 \t researcher\n",
            ", \t PUNCT \t 2593208677638477497 \t ,\n",
            "who \t PRON \t 3876862883474502309 \t who\n",
            "invent \t VERB \t 5373681334090504585 \t invent\n",
            "the \t DET \t 7425985699627899538 \t the\n",
            "diretion \t NOUN \t 421969578720148629 \t diretion\n",
            "of \t ADP \t 886050111519832510 \t of\n",
            "way \t NOUN \t 6878210874361030284 \t way\n",
            "toward \t ADP \t 9664647946711101580 \t toward\n",
            "success \t NOUN \t 16089821935113899987 \t success\n"
          ],
          "name": "stdout"
        }
      ]
    },
    {
      "cell_type": "code",
      "metadata": {
        "id": "NykwX35hHbXE"
      },
      "source": [
        "def showLemma(text):\n",
        "  for token in text:\n",
        "    print(f'{token.text:{12}},\"\\t\", {token.pos_:{6}},\"\\t\", {token.lemma}:<{12},\"\\t\", {token.lemma_}')\n",
        "    #print(token.text, \"\\t\", token.pos_, \"\\t\", token.lemma, \"\\t\", token.lemma_)"
      ],
      "execution_count": 10,
      "outputs": []
    },
    {
      "cell_type": "code",
      "metadata": {
        "colab": {
          "base_uri": "https://localhost:8080/"
        },
        "id": "5MwB0PldIgp2",
        "outputId": "49070aad-4eeb-4989-fd71-1a58894ed37d"
      },
      "source": [
        "var = nlp(u\"John Adams: A Research and Information Guide offers the first comprehensive guide to the musical works and literature of one of the leading company\")\n",
        "showLemma(var)"
      ],
      "execution_count": 11,
      "outputs": [
        {
          "output_type": "stream",
          "text": [
            "John        ,\"\t\", PROPN ,\"\t\", 11174346320140919546:<12,\"\t\", John\n",
            "Adams       ,\"\t\", PROPN ,\"\t\", 15278982565814068080:<12,\"\t\", Adams\n",
            ":           ,\"\t\", PUNCT ,\"\t\", 11532473245541075862:<12,\"\t\", :\n",
            "A           ,\"\t\", DET   ,\"\t\", 11901859001352538922:<12,\"\t\", a\n",
            "Research    ,\"\t\", PROPN ,\"\t\", 13899507030447257129:<12,\"\t\", Research\n",
            "and         ,\"\t\", CCONJ ,\"\t\", 2283656566040971221:<12,\"\t\", and\n",
            "Information ,\"\t\", PROPN ,\"\t\", 7262725514246706477:<12,\"\t\", Information\n",
            "Guide       ,\"\t\", PROPN ,\"\t\", 1986052456849914715:<12,\"\t\", Guide\n",
            "offers      ,\"\t\", VERB  ,\"\t\", 6502919589296598169:<12,\"\t\", offer\n",
            "the         ,\"\t\", DET   ,\"\t\", 7425985699627899538:<12,\"\t\", the\n",
            "first       ,\"\t\", ADJ   ,\"\t\", 11860158879560853892:<12,\"\t\", first\n",
            "comprehensive,\"\t\", ADJ   ,\"\t\", 4904826483218567110:<12,\"\t\", comprehensive\n",
            "guide       ,\"\t\", NOUN  ,\"\t\", 11329615627875436195:<12,\"\t\", guide\n",
            "to          ,\"\t\", ADP   ,\"\t\", 3791531372978436496:<12,\"\t\", to\n",
            "the         ,\"\t\", DET   ,\"\t\", 7425985699627899538:<12,\"\t\", the\n",
            "musical     ,\"\t\", ADJ   ,\"\t\", 9315008164443532889:<12,\"\t\", musical\n",
            "works       ,\"\t\", NOUN  ,\"\t\", 10038440415813069799:<12,\"\t\", work\n",
            "and         ,\"\t\", CCONJ ,\"\t\", 2283656566040971221:<12,\"\t\", and\n",
            "literature  ,\"\t\", NOUN  ,\"\t\", 11760145160625410067:<12,\"\t\", literature\n",
            "of          ,\"\t\", ADP   ,\"\t\", 886050111519832510:<12,\"\t\", of\n",
            "one         ,\"\t\", NUM   ,\"\t\", 17454115351911680600:<12,\"\t\", one\n",
            "of          ,\"\t\", ADP   ,\"\t\", 886050111519832510:<12,\"\t\", of\n",
            "the         ,\"\t\", DET   ,\"\t\", 7425985699627899538:<12,\"\t\", the\n",
            "leading     ,\"\t\", VERB  ,\"\t\", 82546335403996757:<12,\"\t\", lead\n",
            "company     ,\"\t\", NOUN  ,\"\t\", 6905553075311563409:<12,\"\t\", company\n"
          ],
          "name": "stdout"
        }
      ]
    },
    {
      "cell_type": "code",
      "metadata": {
        "id": "ZydGhg_VKNm2"
      },
      "source": [
        ""
      ],
      "execution_count": null,
      "outputs": []
    }
  ]
}