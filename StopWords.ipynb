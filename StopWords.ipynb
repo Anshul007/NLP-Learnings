{
  "nbformat": 4,
  "nbformat_minor": 0,
  "metadata": {
    "colab": {
      "name": "StopWords.ipynb",
      "provenance": [],
      "collapsed_sections": [],
      "authorship_tag": "ABX9TyOv0jpBpUc/VpPiVmonM6gV",
      "include_colab_link": true
    },
    "kernelspec": {
      "name": "python3",
      "display_name": "Python 3"
    },
    "language_info": {
      "name": "python"
    }
  },
  "cells": [
    {
      "cell_type": "markdown",
      "metadata": {
        "id": "view-in-github",
        "colab_type": "text"
      },
      "source": [
        "<a href=\"https://colab.research.google.com/github/Anshul007/Anshul-Chaurasia/blob/master/StopWords.ipynb\" target=\"_parent\"><img src=\"https://colab.research.google.com/assets/colab-badge.svg\" alt=\"Open In Colab\"/></a>"
      ]
    },
    {
      "cell_type": "code",
      "metadata": {
        "id": "UG_cYdAxMTp6"
      },
      "source": [
        "import spacy\n",
        "nlp = spacy.load(\"en_core_web_sm\")"
      ],
      "execution_count": 1,
      "outputs": []
    },
    {
      "cell_type": "code",
      "metadata": {
        "colab": {
          "base_uri": "https://localhost:8080/"
        },
        "id": "J7q30dP1Mz0B",
        "outputId": "d1073808-e029-4eec-da7b-159d3a2cd1bd"
      },
      "source": [
        "import nltk\n",
        "nltk.download(\"stopwords\")"
      ],
      "execution_count": 2,
      "outputs": [
        {
          "output_type": "stream",
          "text": [
            "[nltk_data] Downloading package stopwords to /root/nltk_data...\n",
            "[nltk_data]   Unzipping corpora/stopwords.zip.\n"
          ],
          "name": "stdout"
        },
        {
          "output_type": "execute_result",
          "data": {
            "text/plain": [
              "True"
            ]
          },
          "metadata": {
            "tags": []
          },
          "execution_count": 2
        }
      ]
    },
    {
      "cell_type": "code",
      "metadata": {
        "colab": {
          "base_uri": "https://localhost:8080/"
        },
        "id": "C4KccTTGNCLj",
        "outputId": "f6af3e01-56f8-4a77-8340-2b9a22ad4f04"
      },
      "source": [
        "# printing spacy's default stop words\n",
        "\n",
        "print(nlp.Defaults.stop_words)"
      ],
      "execution_count": 3,
      "outputs": [
        {
          "output_type": "stream",
          "text": [
            "{'him', 'whence', 'was', 'others', 'together', 'around', 'if', 'amount', 'due', 'then', \"n't\", 'done', 'from', 'against', 'eleven', 'latterly', '’s', 'become', 'yet', 'is', 'still', 'and', 'might', 'itself', 'as', 'who', 'many', 'with', 'would', 'anyone', 'how', 'somewhere', 'something', 'forty', 'without', 'those', 'anyhow', 'should', 'serious', 'whoever', 'neither', 'anyway', 'call', 'most', 'or', '’m', 'whose', 'top', 'ever', 'she', 'except', 'using', 'hereby', 'again', 'thereby', 'thence', 'can', 'next', 'whole', 'full', 'yourselves', \"'m\", 'three', 'eight', 'too', 'but', 'least', 'already', 'this', 'moreover', '’d', 'along', 'off', 'please', 'afterwards', 'else', 'so', 'side', 'why', 'the', 'nor', 'n‘t', 'in', 'even', 'unless', 'sometime', 'now', 'various', '‘s', 'during', 'what', 'their', 'six', 'has', 'go', 'while', 'just', 'becoming', 'does', 'get', 'through', 'up', 'out', 'none', 'until', 'when', 'ca', 'everywhere', '’ll', 'nothing', 'former', 'being', 'your', 'perhaps', 'mine', '‘re', 'via', 'because', 'empty', 'became', 'an', 'her', 'all', 'before', 'first', 'upon', 'thus', 'fifty', 'after', \"'ve\", '‘ll', 'less', 'sixty', 'ten', 'we', 'whereupon', 'its', 'becomes', 'whereby', 'four', 'twelve', 'between', 'you', 'that', 'toward', 'within', 'amongst', 'wherever', 'otherwise', 'hundred', 'whom', 'give', 'himself', 'not', 'above', 'beyond', 'they', 'whenever', 'such', 'another', 'my', 'every', 'hence', 'here', 'thereupon', 'herself', 'elsewhere', 'rather', 'doing', 'seeming', 'everyone', 'it', 'yourself', 'also', 'latter', 'cannot', 'on', 'other', '‘d', 'keep', 'put', 'no', 'may', 'show', 'were', 'front', 'whereafter', 'sometimes', 'really', 'few', 'must', 'much', 'once', 'hers', 'bottom', 'meanwhile', 'well', 'own', 'which', 'beforehand', 'never', 'herein', 'alone', 'namely', 'themselves', 'seems', 'whether', 'among', 'thru', 'only', 'two', 'nobody', 'could', 'used', 'one', 'since', 'noone', 'than', 'someone', 'either', 'hereafter', 'further', 'whereas', 'indeed', 'part', 'are', 'them', 'been', 'i', 'make', 'wherein', 'third', 'towards', 'any', 'back', 'under', 'see', \"'re\", 'us', 'fifteen', 'to', 'of', 'n’t', 'same', 'these', 'twenty', 'some', 'did', 'seem', 'onto', 'per', 'nowhere', 'however', 'do', 'last', 'anywhere', 'throughout', 'will', 'regarding', 'about', 'had', 'have', 'down', 'everything', 'be', 'ourselves', 'formerly', '‘m', 'yours', 'am', 'where', 'by', 'each', 'made', '’re', 'whatever', '’ve', 'five', 'more', 'he', 'nevertheless', 'seemed', 'our', 'though', 'move', 'take', 'hereupon', 'myself', 'across', 'behind', 'several', 'into', '‘ve', 'therein', 'mostly', 'over', 'his', 'somehow', 'whither', 'say', 'quite', \"'d\", 'often', 'very', 're', 'there', 'name', 'nine', \"'s\", 'a', 'for', 'below', 'anything', 'besides', 'both', 'beside', 'always', 'at', 'almost', 'me', 'although', 'ours', 'thereafter', 'enough', 'therefore', \"'ll\"}\n"
          ],
          "name": "stdout"
        }
      ]
    },
    {
      "cell_type": "code",
      "metadata": {
        "colab": {
          "base_uri": "https://localhost:8080/"
        },
        "id": "j6yt-k4wNfzi",
        "outputId": "3b1fc65a-c3f9-4da1-b4b3-67e571411185"
      },
      "source": [
        "print(len(nlp.Defaults.stop_words))"
      ],
      "execution_count": 4,
      "outputs": [
        {
          "output_type": "stream",
          "text": [
            "326\n"
          ],
          "name": "stdout"
        }
      ]
    },
    {
      "cell_type": "code",
      "metadata": {
        "colab": {
          "base_uri": "https://localhost:8080/"
        },
        "id": "kyujtKlyOT15",
        "outputId": "ee868d38-87bf-4274-93b4-532faffaa5ba"
      },
      "source": [
        "# to check whether this word is stop word or not\n",
        "\n",
        "nlp.vocab[\"myself\"].is_stop"
      ],
      "execution_count": 5,
      "outputs": [
        {
          "output_type": "execute_result",
          "data": {
            "text/plain": [
              "True"
            ]
          },
          "metadata": {
            "tags": []
          },
          "execution_count": 5
        }
      ]
    },
    {
      "cell_type": "code",
      "metadata": {
        "colab": {
          "base_uri": "https://localhost:8080/",
          "height": 35
        },
        "id": "LMj0tMjoRDSr",
        "outputId": "3e587a82-6591-4260-9fda-962b4ebf4dc7"
      },
      "source": [
        "# to add any word in the list of stop words\n",
        "'''\n",
        "nlp.Defaults.stop_words.add(\"any_words\")\n",
        "'''\n",
        "\n",
        "# to remove any word in the list of stop words\n",
        "'''\n",
        "nlp.Defaults.stop_words.remove(\"any_words\")\n",
        "'''"
      ],
      "execution_count": 6,
      "outputs": [
        {
          "output_type": "execute_result",
          "data": {
            "application/vnd.google.colaboratory.intrinsic+json": {
              "type": "string"
            },
            "text/plain": [
              "'\\nnlp.Defaults.stop_words.remove(\"any_words\")\\n'"
            ]
          },
          "metadata": {
            "tags": []
          },
          "execution_count": 6
        }
      ]
    },
    {
      "cell_type": "code",
      "metadata": {
        "colab": {
          "base_uri": "https://localhost:8080/"
        },
        "id": "RFWOmA0aSXDW",
        "outputId": "ad90058b-adbf-4017-ea0b-a65e8de80c41"
      },
      "source": [
        "# importing usefull libraries\n",
        "import re\n",
        "import string\n",
        "\n",
        "import nltk\n",
        "nltk.download('punkt')\n",
        "\n",
        "from nltk import word_tokenize, sent_tokenize\n",
        "from nltk.corpus import stopwords"
      ],
      "execution_count": 27,
      "outputs": [
        {
          "output_type": "stream",
          "text": [
            "[nltk_data] Downloading package punkt to /root/nltk_data...\n",
            "[nltk_data]   Package punkt is already up-to-date!\n"
          ],
          "name": "stdout"
        }
      ]
    },
    {
      "cell_type": "code",
      "metadata": {
        "id": "lRjiBifWSZwu"
      },
      "source": [
        "# load the string\n",
        "text = \"The Quick brown fox jumps over the lazy dog !!!! @\""
      ],
      "execution_count": 34,
      "outputs": []
    },
    {
      "cell_type": "code",
      "metadata": {
        "colab": {
          "base_uri": "https://localhost:8080/"
        },
        "id": "yJfITDCvSxqt",
        "outputId": "1c33fad4-6c61-4db5-bf72-9d43618e999c"
      },
      "source": [
        "# Split into words\n",
        "\n",
        "token = word_tokenize(text)\n",
        "print(token)"
      ],
      "execution_count": 35,
      "outputs": [
        {
          "output_type": "stream",
          "text": [
            "['The', 'Quick', 'brown', 'fox', 'jumps', 'over', 'the', 'lazy', 'dog', '!', '!', '!', '!', '@']\n"
          ],
          "name": "stdout"
        }
      ]
    },
    {
      "cell_type": "code",
      "metadata": {
        "colab": {
          "base_uri": "https://localhost:8080/"
        },
        "id": "aeW6TMFtUWit",
        "outputId": "facb39f4-b326-4b89-992c-0d64dd7a71da"
      },
      "source": [
        "# converting into lowercase\n",
        "'''\n",
        "for w in token:\n",
        "  print(w.lower())\n",
        "'''\n",
        "\n",
        "token = [w.lower() for w in token]\n",
        "print(token)"
      ],
      "execution_count": 36,
      "outputs": [
        {
          "output_type": "stream",
          "text": [
            "['the', 'quick', 'brown', 'fox', 'jumps', 'over', 'the', 'lazy', 'dog', '!', '!', '!', '!', '@']\n"
          ],
          "name": "stdout"
        }
      ]
    },
    {
      "cell_type": "code",
      "metadata": {
        "colab": {
          "base_uri": "https://localhost:8080/"
        },
        "id": "jZo0h_AgV5mD",
        "outputId": "013ff65f-45d0-420a-80f7-6b86f0b778ed"
      },
      "source": [
        "# prepairing regex for char filtering\n",
        "\n",
        "re_punc = re.compile('[%s]'% re.escape(string.punctuation))\n",
        "print(re_punc)"
      ],
      "execution_count": 37,
      "outputs": [
        {
          "output_type": "stream",
          "text": [
            "re.compile('[!\"\\\\#\\\\$%\\\\&\\'\\\\(\\\\)\\\\*\\\\+,\\\\-\\\\./:;<=>\\\\?@\\\\[\\\\\\\\\\\\]\\\\^_`\\\\{\\\\|\\\\}\\\\~]')\n"
          ],
          "name": "stdout"
        }
      ]
    },
    {
      "cell_type": "code",
      "metadata": {
        "colab": {
          "base_uri": "https://localhost:8080/"
        },
        "id": "xUHKpOv8XjSS",
        "outputId": "335af2f3-1c9d-4e34-d216-c2567b8c1356"
      },
      "source": [
        "# remove punctuation from each word\n",
        "\n",
        "stripped = [re_punc.sub(\"\",w) for w in token]\n",
        "print(stripped)"
      ],
      "execution_count": 38,
      "outputs": [
        {
          "output_type": "stream",
          "text": [
            "['the', 'quick', 'brown', 'fox', 'jumps', 'over', 'the', 'lazy', 'dog', '', '', '', '', '']\n"
          ],
          "name": "stdout"
        }
      ]
    },
    {
      "cell_type": "code",
      "metadata": {
        "colab": {
          "base_uri": "https://localhost:8080/"
        },
        "id": "qTKNbQaNeTRZ",
        "outputId": "c0a440af-da8e-4e1a-8784-84e49a5a2476"
      },
      "source": [
        "# Remove the remaining tokens which are not alphabets\n",
        "\n",
        "words = [word for word in stripped if word.isalpha()]\n",
        "\n",
        "'''\n",
        "for word in stripped:\n",
        "  if word.isalpha():\n",
        "    print(word)\n",
        "\n",
        "'''\n",
        "print(words)"
      ],
      "execution_count": 43,
      "outputs": [
        {
          "output_type": "stream",
          "text": [
            "['the', 'quick', 'brown', 'fox', 'jumps', 'over', 'the', 'lazy', 'dog']\n"
          ],
          "name": "stdout"
        }
      ]
    },
    {
      "cell_type": "code",
      "metadata": {
        "colab": {
          "base_uri": "https://localhost:8080/"
        },
        "id": "PX7c2cWTpZva",
        "outputId": "0f9467aa-3c4e-4046-a459-e2525048f082"
      },
      "source": [
        "# Filter out non-stop words\n",
        "\n",
        "stop_words = set(stopwords.words(\"english\"))\n",
        "words = [w for w in words if not w in stop_words]\n",
        "\n",
        "print(words)"
      ],
      "execution_count": 44,
      "outputs": [
        {
          "output_type": "stream",
          "text": [
            "['quick', 'brown', 'fox', 'jumps', 'lazy', 'dog']\n"
          ],
          "name": "stdout"
        }
      ]
    },
    {
      "cell_type": "code",
      "metadata": {
        "id": "EBhflsMirPoF"
      },
      "source": [
        ""
      ],
      "execution_count": null,
      "outputs": []
    }
  ]
}