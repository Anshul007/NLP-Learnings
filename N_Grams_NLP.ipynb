{
  "nbformat": 4,
  "nbformat_minor": 0,
  "metadata": {
    "colab": {
      "name": "N-Grams_NLP.ipynb",
      "provenance": [],
      "authorship_tag": "ABX9TyM52IQVTDktGTLw/coCNiut",
      "include_colab_link": true
    },
    "kernelspec": {
      "name": "python3",
      "display_name": "Python 3"
    },
    "language_info": {
      "name": "python"
    }
  },
  "cells": [
    {
      "cell_type": "markdown",
      "metadata": {
        "id": "view-in-github",
        "colab_type": "text"
      },
      "source": [
        "<a href=\"https://colab.research.google.com/github/Anshul007/Anshul-Chaurasia/blob/master/N_Grams_NLP.ipynb\" target=\"_parent\"><img src=\"https://colab.research.google.com/assets/colab-badge.svg\" alt=\"Open In Colab\"/></a>"
      ]
    },
    {
      "cell_type": "code",
      "metadata": {
        "id": "EFGkj2QT6wKK"
      },
      "source": [
        "# Importing regular expression\n",
        "import re"
      ],
      "execution_count": 1,
      "outputs": []
    },
    {
      "cell_type": "markdown",
      "metadata": {
        "id": "KvlaNbtu6_TF"
      },
      "source": [
        "# Note:\n",
        "N-Grams are used in verity of things, like auto completing of sentences, auto spell check and grammer check (At some extent)."
      ]
    },
    {
      "cell_type": "code",
      "metadata": {
        "id": "ExtnLxpW6x-e"
      },
      "source": [
        "def N_grams(text, n):\n",
        "  # split the token into tokens\n",
        "  tokens = re.split(\"\\\\s\", text)\n",
        "  ngrams = []\n",
        "\n",
        "  #collect he n-grams\n",
        "  for i in range(len(tokens)-n+1):\n",
        "    temp = [tokens[j] for j in range(i,i+n)]\n",
        "    ngrams.append(\" \".join(temp))\n",
        "  return ngrams"
      ],
      "execution_count": 2,
      "outputs": []
    },
    {
      "cell_type": "code",
      "metadata": {
        "colab": {
          "base_uri": "https://localhost:8080/"
        },
        "id": "5B8erb8Q812Z",
        "outputId": "386442db-65e0-416b-f4f0-c94b58f86c38"
      },
      "source": [
        "text1 = \"The quick brown fox jumps the lazy dog\";\n",
        "N_grams(text1, 3)"
      ],
      "execution_count": 4,
      "outputs": [
        {
          "output_type": "execute_result",
          "data": {
            "text/plain": [
              "['The quick brown',\n",
              " 'quick brown fox',\n",
              " 'brown fox jumps',\n",
              " 'fox jumps the',\n",
              " 'jumps the lazy',\n",
              " 'the lazy dog']"
            ]
          },
          "metadata": {},
          "execution_count": 4
        }
      ]
    },
    {
      "cell_type": "code",
      "metadata": {
        "id": "3f9xiLrD9Ood"
      },
      "source": [
        ""
      ],
      "execution_count": null,
      "outputs": []
    }
  ]
}