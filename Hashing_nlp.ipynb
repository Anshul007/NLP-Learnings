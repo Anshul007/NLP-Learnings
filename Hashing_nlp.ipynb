{
  "nbformat": 4,
  "nbformat_minor": 0,
  "metadata": {
    "colab": {
      "name": "Hashing_nlp.ipynb",
      "provenance": [],
      "authorship_tag": "ABX9TyPV0BO4fSzrSp5IZHWSI/xk",
      "include_colab_link": true
    },
    "kernelspec": {
      "name": "python3",
      "display_name": "Python 3"
    },
    "language_info": {
      "name": "python"
    }
  },
  "cells": [
    {
      "cell_type": "markdown",
      "metadata": {
        "id": "view-in-github",
        "colab_type": "text"
      },
      "source": [
        "<a href=\"https://colab.research.google.com/github/Anshul007/Anshul-Chaurasia/blob/master/Hashing_nlp.ipynb\" target=\"_parent\"><img src=\"https://colab.research.google.com/assets/colab-badge.svg\" alt=\"Open In Colab\"/></a>"
      ]
    },
    {
      "cell_type": "code",
      "metadata": {
        "id": "UTF1JS_sGHxT"
      },
      "source": [
        "from sklearn.feature_extraction.txt import HashingVectorizer\n",
        "\n",
        "text = [\"The Quick brown fox jumps over the lazy dog\"]"
      ],
      "execution_count": 2,
      "outputs": []
    },
    {
      "cell_type": "code",
      "metadata": {
        "id": "omiQDEZnHO3p"
      },
      "source": [
        "vectorizer = HashingVectorizer()\n",
        "\n",
        "vector = vectorizer.transform(text)"
      ],
      "execution_count": 3,
      "outputs": []
    },
    {
      "cell_type": "code",
      "metadata": {
        "colab": {
          "base_uri": "https://localhost:8080/"
        },
        "id": "qkQBaI_5N4x1",
        "outputId": "92526fd8-24b8-4367-b133-2173c60320b7"
      },
      "source": [
        "print(vector.shape)\n",
        "print(vector.toarray())"
      ],
      "execution_count": 7,
      "outputs": [
        {
          "output_type": "stream",
          "text": [
            "(1, 1048576)\n",
            "[[0. 0. 0. ... 0. 0. 0.]]\n"
          ],
          "name": "stdout"
        }
      ]
    },
    {
      "cell_type": "code",
      "metadata": {
        "id": "73dOiIPTN-iF"
      },
      "source": [
        ""
      ],
      "execution_count": null,
      "outputs": []
    }
  ]
}