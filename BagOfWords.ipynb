{
  "nbformat": 4,
  "nbformat_minor": 0,
  "metadata": {
    "colab": {
      "name": "BagOfWords.ipynb",
      "provenance": [],
      "collapsed_sections": [],
      "authorship_tag": "ABX9TyN4PxCNdJ0fgV2qM0fU7e+w",
      "include_colab_link": true
    },
    "kernelspec": {
      "name": "python3",
      "display_name": "Python 3"
    },
    "language_info": {
      "name": "python"
    }
  },
  "cells": [
    {
      "cell_type": "markdown",
      "metadata": {
        "id": "view-in-github",
        "colab_type": "text"
      },
      "source": [
        "<a href=\"https://colab.research.google.com/github/Anshul007/Anshul-Chaurasia/blob/master/BagOfWords.ipynb\" target=\"_parent\"><img src=\"https://colab.research.google.com/assets/colab-badge.svg\" alt=\"Open In Colab\"/></a>"
      ]
    },
    {
      "cell_type": "code",
      "metadata": {
        "id": "xI1v1JAAdFt5"
      },
      "source": [
        "from sklearn.feature_extraction.text import CountVectorizer\n",
        "\n",
        "# list of text documents\n",
        "string = [\"The Quick brown fox jumps over the lazy dog\"]"
      ],
      "execution_count": 4,
      "outputs": []
    },
    {
      "cell_type": "code",
      "metadata": {
        "id": "HqFLogrqf5Hk"
      },
      "source": [
        "# create the transform\n",
        "vectorizer = CountVectorizer()"
      ],
      "execution_count": 2,
      "outputs": []
    },
    {
      "cell_type": "code",
      "metadata": {
        "colab": {
          "base_uri": "https://localhost:8080/"
        },
        "id": "C9igvdf9gGO1",
        "outputId": "18940c22-9ed3-494d-97c4-817c7f101f80"
      },
      "source": [
        "# tokenize and build vocab\n",
        "vectorizer.fit(string)\n",
        "\n",
        "print(vectorizer.vocabulary_)"
      ],
      "execution_count": 5,
      "outputs": [
        {
          "output_type": "stream",
          "text": [
            "{'the': 7, 'quick': 6, 'brown': 0, 'fox': 2, 'jumps': 3, 'over': 5, 'lazy': 4, 'dog': 1}\n"
          ],
          "name": "stdout"
        }
      ]
    },
    {
      "cell_type": "code",
      "metadata": {
        "id": "nFalOufZgb0Q"
      },
      "source": [
        ""
      ],
      "execution_count": null,
      "outputs": []
    },
    {
      "cell_type": "code",
      "metadata": {
        "colab": {
          "base_uri": "https://localhost:8080/"
        },
        "id": "CUXu9eeugovM",
        "outputId": "3d88ef84-7652-45d9-ba5d-16dcd6af0549"
      },
      "source": [
        "# encode documents\n",
        "vector = vectorizer.transform(string)\n",
        "\n",
        "print(\"Shape: \"+ str(vector.shape))\n",
        "print(\"Type: \"+ str(type(vector)))\n",
        "print(\"Array: \"+ str(vector.toarray()))"
      ],
      "execution_count": 11,
      "outputs": [
        {
          "output_type": "stream",
          "text": [
            "Shape: (1, 8)\n",
            "Type: <class 'scipy.sparse.csr.csr_matrix'>\n",
            "Array: [[1 1 1 1 1 1 1 2]]\n"
          ],
          "name": "stdout"
        }
      ]
    },
    {
      "cell_type": "code",
      "metadata": {
        "id": "zhfFPIZUhWAR"
      },
      "source": [
        ""
      ],
      "execution_count": null,
      "outputs": []
    }
  ]
}