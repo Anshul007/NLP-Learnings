{
  "nbformat": 4,
  "nbformat_minor": 0,
  "metadata": {
    "colab": {
      "name": "Stemming.ipynb",
      "provenance": [],
      "collapsed_sections": [],
      "authorship_tag": "ABX9TyNp9V3HTOIIhi0nXL9+aFpv",
      "include_colab_link": true
    },
    "kernelspec": {
      "name": "python3",
      "display_name": "Python 3"
    },
    "language_info": {
      "name": "python"
    }
  },
  "cells": [
    {
      "cell_type": "markdown",
      "metadata": {
        "id": "view-in-github",
        "colab_type": "text"
      },
      "source": [
        "<a href=\"https://colab.research.google.com/github/Anshul007/Anshul-Chaurasia/blob/master/Stemming.ipynb\" target=\"_parent\"><img src=\"https://colab.research.google.com/assets/colab-badge.svg\" alt=\"Open In Colab\"/></a>"
      ]
    },
    {
      "cell_type": "code",
      "metadata": {
        "id": "b0JOsFDhN0A2"
      },
      "source": [
        "import spacy\n",
        "nlp = spacy.load(\"en_core_web_sm\")"
      ],
      "execution_count": 2,
      "outputs": []
    },
    {
      "cell_type": "code",
      "metadata": {
        "colab": {
          "base_uri": "https://localhost:8080/"
        },
        "id": "1qMRM5_kPID6",
        "outputId": "66c4e8ba-bac8-4d45-dfbb-46c5792a7469"
      },
      "source": [
        "doc = nlp(u\"Apple, is! looking at-  buying U.K. startup for $1 billion\")\n",
        "print(token for token in doc)"
      ],
      "execution_count": 6,
      "outputs": [
        {
          "output_type": "stream",
          "text": [
            "<generator object <genexpr> at 0x7fad422643d0>\n"
          ],
          "name": "stdout"
        }
      ]
    },
    {
      "cell_type": "code",
      "metadata": {
        "colab": {
          "base_uri": "https://localhost:8080/"
        },
        "id": "BklX0dyvPvZR",
        "outputId": "e366b920-6f58-4bc7-ba1c-dcc6b1d344ae"
      },
      "source": [
        "for i in doc:\n",
        "  print(i)"
      ],
      "execution_count": 7,
      "outputs": [
        {
          "output_type": "stream",
          "text": [
            "Apple\n",
            ",\n",
            "is\n",
            "!\n",
            "looking\n",
            "at-\n",
            " \n",
            "buying\n",
            "U.K.\n",
            "startup\n",
            "for\n",
            "$\n",
            "1\n",
            "billion\n"
          ],
          "name": "stdout"
        }
      ]
    },
    {
      "cell_type": "markdown",
      "metadata": {
        "id": "nOYqBcgUQpzR"
      },
      "source": [
        "# Porter Stremmer"
      ]
    },
    {
      "cell_type": "code",
      "metadata": {
        "id": "owqqHqOyP-vM"
      },
      "source": [
        "import nltk\n",
        "from nltk.stem.porter import *"
      ],
      "execution_count": 8,
      "outputs": []
    },
    {
      "cell_type": "code",
      "metadata": {
        "id": "FJQ76aL1RJCO"
      },
      "source": [
        "p_stemmer = PorterStemmer()\n",
        "\n",
        "words = [\"run\", \"runner\", \"running\", \"ran\", \"runs\", \"easily\", \"fairly\"]"
      ],
      "execution_count": 11,
      "outputs": []
    },
    {
      "cell_type": "code",
      "metadata": {
        "colab": {
          "base_uri": "https://localhost:8080/"
        },
        "id": "HyTK9ybERkN_",
        "outputId": "848f61b5-511a-403d-cf09-ffea97a0c739"
      },
      "source": [
        "for word in words:\n",
        "  print(word+\": \"+p_stemmer.stem(word))"
      ],
      "execution_count": 12,
      "outputs": [
        {
          "output_type": "stream",
          "text": [
            "run: run\n",
            "runner: runner\n",
            "running: run\n",
            "ran: ran\n",
            "runs: run\n",
            "easily: easili\n",
            "fairly: fairli\n"
          ],
          "name": "stdout"
        }
      ]
    },
    {
      "cell_type": "markdown",
      "metadata": {
        "id": "jUHuo_AFSWGe"
      },
      "source": [
        "# Snowball Stemming"
      ]
    },
    {
      "cell_type": "code",
      "metadata": {
        "id": "7oZ2ja2gR5JA"
      },
      "source": [
        "from nltk.stem.snowball import SnowballStemmer\n",
        "\n",
        "# the snowball requires you to pass a language parameter\n",
        "s_stremmer = SnowballStemmer(language= \"english\")"
      ],
      "execution_count": 13,
      "outputs": []
    },
    {
      "cell_type": "code",
      "metadata": {
        "colab": {
          "base_uri": "https://localhost:8080/"
        },
        "id": "T1cO6WSAbEbj",
        "outputId": "b01f47a4-a0dd-48bb-ae0e-2dadcd25dbf9"
      },
      "source": [
        "for word in words:\n",
        "  print(word+\": \"+s_stremmer.stem(word))"
      ],
      "execution_count": 14,
      "outputs": [
        {
          "output_type": "stream",
          "text": [
            "run: run\n",
            "runner: runner\n",
            "running: run\n",
            "ran: ran\n",
            "runs: run\n",
            "easily: easili\n",
            "fairly: fair\n"
          ],
          "name": "stdout"
        }
      ]
    },
    {
      "cell_type": "code",
      "metadata": {
        "id": "qBpPwWIrbP_T"
      },
      "source": [
        ""
      ],
      "execution_count": null,
      "outputs": []
    },
    {
      "cell_type": "markdown",
      "metadata": {
        "id": "eKieFHNsb5Hg"
      },
      "source": [
        "<h3>Note</h3> Steamming has its own drawback. it may confuse in noun and verbe."
      ]
    },
    {
      "cell_type": "code",
      "metadata": {
        "colab": {
          "base_uri": "https://localhost:8080/"
        },
        "id": "4XoBNrXNcHX-",
        "outputId": "5e340eea-edc8-4f46-f5cb-bd065b358f4f"
      },
      "source": [
        "phrase = \"I am meeting him tommorow at meeting\"\n",
        "\n",
        "for word in phrase.split():\n",
        "  print(word+\": \"+p_stemmer.stem(word))"
      ],
      "execution_count": 19,
      "outputs": [
        {
          "output_type": "stream",
          "text": [
            "I: I\n",
            "am: am\n",
            "meeting: meet\n",
            "him: him\n",
            "tommorow: tommorow\n",
            "at: at\n",
            "meeting: meet\n"
          ],
          "name": "stdout"
        }
      ]
    },
    {
      "cell_type": "code",
      "metadata": {
        "colab": {
          "base_uri": "https://localhost:8080/"
        },
        "id": "YMsnIA97cV-4",
        "outputId": "e6d525ae-7e72-41c6-e3d0-8941c26f7529"
      },
      "source": [
        "for word in phrase.split():\n",
        "  print(word+\": \"+s_stremmer.stem(word))"
      ],
      "execution_count": 20,
      "outputs": [
        {
          "output_type": "stream",
          "text": [
            "I: i\n",
            "am: am\n",
            "meeting: meet\n",
            "him: him\n",
            "tommorow: tommorow\n",
            "at: at\n",
            "meeting: meet\n"
          ],
          "name": "stdout"
        }
      ]
    },
    {
      "cell_type": "code",
      "metadata": {
        "id": "66N2fsyjc7Eu"
      },
      "source": [
        ""
      ],
      "execution_count": null,
      "outputs": []
    }
  ]
}